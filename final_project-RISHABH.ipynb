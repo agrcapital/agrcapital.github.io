{
 "cells": [
  {
   "cell_type": "code",
   "execution_count": 48,
   "metadata": {},
   "outputs": [],
   "source": [
    "from scipy import stats"
   ]
  },
  {
   "cell_type": "code",
   "execution_count": 37,
   "metadata": {},
   "outputs": [
    {
     "data": {
      "text/html": [
       "<div>\n",
       "<style scoped>\n",
       "    .dataframe tbody tr th:only-of-type {\n",
       "        vertical-align: middle;\n",
       "    }\n",
       "\n",
       "    .dataframe tbody tr th {\n",
       "        vertical-align: top;\n",
       "    }\n",
       "\n",
       "    .dataframe thead th {\n",
       "        text-align: right;\n",
       "    }\n",
       "</style>\n",
       "<table border=\"1\" class=\"dataframe\">\n",
       "  <thead>\n",
       "    <tr style=\"text-align: right;\">\n",
       "      <th></th>\n",
       "      <th>Entity</th>\n",
       "      <th>Code</th>\n",
       "      <th>Year</th>\n",
       "      <th>Prevalence of stunting, height for age (% of children under 5)</th>\n",
       "      <th>Prevalence of underweight, weight for age (% of children under 5)</th>\n",
       "      <th>Prevalence of wasting, weight for height (% of children under 5)</th>\n",
       "    </tr>\n",
       "  </thead>\n",
       "  <tbody>\n",
       "    <tr>\n",
       "      <th>0</th>\n",
       "      <td>Afghanistan</td>\n",
       "      <td>AFG</td>\n",
       "      <td>1997</td>\n",
       "      <td>53.2</td>\n",
       "      <td>44.9</td>\n",
       "      <td>18.2</td>\n",
       "    </tr>\n",
       "    <tr>\n",
       "      <th>1</th>\n",
       "      <td>Afghanistan</td>\n",
       "      <td>AFG</td>\n",
       "      <td>2004</td>\n",
       "      <td>59.3</td>\n",
       "      <td>32.9</td>\n",
       "      <td>8.6</td>\n",
       "    </tr>\n",
       "    <tr>\n",
       "      <th>2</th>\n",
       "      <td>Afghanistan</td>\n",
       "      <td>AFG</td>\n",
       "      <td>2013</td>\n",
       "      <td>40.4</td>\n",
       "      <td>24.6</td>\n",
       "      <td>9.5</td>\n",
       "    </tr>\n",
       "    <tr>\n",
       "      <th>3</th>\n",
       "      <td>Afghanistan</td>\n",
       "      <td>AFG</td>\n",
       "      <td>2018</td>\n",
       "      <td>38.2</td>\n",
       "      <td>19.1</td>\n",
       "      <td>5.1</td>\n",
       "    </tr>\n",
       "    <tr>\n",
       "      <th>4</th>\n",
       "      <td>Albania</td>\n",
       "      <td>ALB</td>\n",
       "      <td>1997</td>\n",
       "      <td>20.4</td>\n",
       "      <td>7.1</td>\n",
       "      <td>8.1</td>\n",
       "    </tr>\n",
       "  </tbody>\n",
       "</table>\n",
       "</div>"
      ],
      "text/plain": [
       "        Entity Code  Year  \\\n",
       "0  Afghanistan  AFG  1997   \n",
       "1  Afghanistan  AFG  2004   \n",
       "2  Afghanistan  AFG  2013   \n",
       "3  Afghanistan  AFG  2018   \n",
       "4      Albania  ALB  1997   \n",
       "\n",
       "   Prevalence of stunting, height for age (% of children under 5)  \\\n",
       "0                                               53.2                \n",
       "1                                               59.3                \n",
       "2                                               40.4                \n",
       "3                                               38.2                \n",
       "4                                               20.4                \n",
       "\n",
       "   Prevalence of underweight, weight for age (% of children under 5)  \\\n",
       "0                                               44.9                   \n",
       "1                                               32.9                   \n",
       "2                                               24.6                   \n",
       "3                                               19.1                   \n",
       "4                                                7.1                   \n",
       "\n",
       "   Prevalence of wasting, weight for height (% of children under 5)  \n",
       "0                                               18.2                 \n",
       "1                                                8.6                 \n",
       "2                                                9.5                 \n",
       "3                                                5.1                 \n",
       "4                                                8.1                 "
      ]
     },
     "execution_count": 37,
     "metadata": {},
     "output_type": "execute_result"
    }
   ],
   "source": [
    "import pandas as pd\n",
    "\n",
    "df = pd.read_csv('archive/Childhood malnutrition.csv')\n",
    "df.head()"
   ]
  },
  {
   "cell_type": "code",
   "execution_count": 53,
   "metadata": {},
   "outputs": [
    {
     "data": {
      "text/plain": [
       "6419"
      ]
     },
     "execution_count": 53,
     "metadata": {},
     "output_type": "execute_result"
    }
   ],
   "source": [
    "df.size"
   ]
  },
  {
   "cell_type": "code",
   "execution_count": 38,
   "metadata": {},
   "outputs": [],
   "source": [
    "import numpy as np\n",
    "import pycountry\n",
    "# pip install pycountry-convert\n",
    "import pycountry_convert as pc\n",
    "\n",
    "continents = {\n",
    "    'NA': 'North America',\n",
    "    'SA': 'South America', \n",
    "    'AS': 'Asia',\n",
    "    'OC': 'Australia',\n",
    "    'AF': 'Africa',\n",
    "    'EU': 'Europe'\n",
    "}\n",
    "\n",
    "def get_continent(x):\n",
    "    try:\n",
    "        # Get from alpha_3\n",
    "        return continents[pc.country_alpha2_to_continent_code(pycountry.countries.get(alpha_3=x).alpha_2)]\n",
    "    except:\n",
    "        return np.nan"
   ]
  },
  {
   "cell_type": "code",
   "execution_count": 39,
   "metadata": {},
   "outputs": [],
   "source": [
    "df['Continent'] = df['Code'].apply(get_continent)"
   ]
  },
  {
   "cell_type": "code",
   "execution_count": 40,
   "metadata": {},
   "outputs": [
    {
     "data": {
      "text/plain": [
       "'Asia'"
      ]
     },
     "execution_count": 40,
     "metadata": {},
     "output_type": "execute_result"
    }
   ],
   "source": [
    "get_continent('AFG')"
   ]
  },
  {
   "cell_type": "code",
   "execution_count": 41,
   "metadata": {},
   "outputs": [
    {
     "data": {
      "text/html": [
       "<div>\n",
       "<style scoped>\n",
       "    .dataframe tbody tr th:only-of-type {\n",
       "        vertical-align: middle;\n",
       "    }\n",
       "\n",
       "    .dataframe tbody tr th {\n",
       "        vertical-align: top;\n",
       "    }\n",
       "\n",
       "    .dataframe thead th {\n",
       "        text-align: right;\n",
       "    }\n",
       "</style>\n",
       "<table border=\"1\" class=\"dataframe\">\n",
       "  <thead>\n",
       "    <tr style=\"text-align: right;\">\n",
       "      <th></th>\n",
       "      <th>Entity</th>\n",
       "      <th>Code</th>\n",
       "      <th>Year</th>\n",
       "      <th>Prevalence of stunting, height for age (% of children under 5)</th>\n",
       "      <th>Prevalence of underweight, weight for age (% of children under 5)</th>\n",
       "      <th>Prevalence of wasting, weight for height (% of children under 5)</th>\n",
       "      <th>Continent</th>\n",
       "    </tr>\n",
       "  </thead>\n",
       "  <tbody>\n",
       "    <tr>\n",
       "      <th>780</th>\n",
       "      <td>Timor</td>\n",
       "      <td>TLS</td>\n",
       "      <td>2002</td>\n",
       "      <td>55.7</td>\n",
       "      <td>40.6</td>\n",
       "      <td>13.7</td>\n",
       "      <td>NaN</td>\n",
       "    </tr>\n",
       "    <tr>\n",
       "      <th>781</th>\n",
       "      <td>Timor</td>\n",
       "      <td>TLS</td>\n",
       "      <td>2003</td>\n",
       "      <td>54.8</td>\n",
       "      <td>41.5</td>\n",
       "      <td>14.3</td>\n",
       "      <td>NaN</td>\n",
       "    </tr>\n",
       "    <tr>\n",
       "      <th>782</th>\n",
       "      <td>Timor</td>\n",
       "      <td>TLS</td>\n",
       "      <td>2007</td>\n",
       "      <td>57.2</td>\n",
       "      <td>49.5</td>\n",
       "      <td>21.3</td>\n",
       "      <td>NaN</td>\n",
       "    </tr>\n",
       "    <tr>\n",
       "      <th>783</th>\n",
       "      <td>Timor</td>\n",
       "      <td>TLS</td>\n",
       "      <td>2009</td>\n",
       "      <td>57.5</td>\n",
       "      <td>44.9</td>\n",
       "      <td>18.9</td>\n",
       "      <td>NaN</td>\n",
       "    </tr>\n",
       "    <tr>\n",
       "      <th>784</th>\n",
       "      <td>Timor</td>\n",
       "      <td>TLS</td>\n",
       "      <td>2013</td>\n",
       "      <td>51.7</td>\n",
       "      <td>37.5</td>\n",
       "      <td>9.9</td>\n",
       "      <td>NaN</td>\n",
       "    </tr>\n",
       "  </tbody>\n",
       "</table>\n",
       "</div>"
      ],
      "text/plain": [
       "    Entity Code  Year  \\\n",
       "780  Timor  TLS  2002   \n",
       "781  Timor  TLS  2003   \n",
       "782  Timor  TLS  2007   \n",
       "783  Timor  TLS  2009   \n",
       "784  Timor  TLS  2013   \n",
       "\n",
       "     Prevalence of stunting, height for age (% of children under 5)  \\\n",
       "780                                               55.7                \n",
       "781                                               54.8                \n",
       "782                                               57.2                \n",
       "783                                               57.5                \n",
       "784                                               51.7                \n",
       "\n",
       "     Prevalence of underweight, weight for age (% of children under 5)  \\\n",
       "780                                               40.6                   \n",
       "781                                               41.5                   \n",
       "782                                               49.5                   \n",
       "783                                               44.9                   \n",
       "784                                               37.5                   \n",
       "\n",
       "     Prevalence of wasting, weight for height (% of children under 5)  \\\n",
       "780                                               13.7                  \n",
       "781                                               14.3                  \n",
       "782                                               21.3                  \n",
       "783                                               18.9                  \n",
       "784                                                9.9                  \n",
       "\n",
       "    Continent  \n",
       "780       NaN  \n",
       "781       NaN  \n",
       "782       NaN  \n",
       "783       NaN  \n",
       "784       NaN  "
      ]
     },
     "execution_count": 41,
     "metadata": {},
     "output_type": "execute_result"
    }
   ],
   "source": [
    "df[df['Continent'].isna()]"
   ]
  },
  {
   "cell_type": "code",
   "execution_count": 42,
   "metadata": {},
   "outputs": [],
   "source": [
    "# Manually Adding a Continent for Timor\n",
    "df['Continent'] = df['Continent'].replace(np.nan, 'Asia')"
   ]
  },
  {
   "cell_type": "code",
   "execution_count": 43,
   "metadata": {},
   "outputs": [
    {
     "data": {
      "text/html": [
       "<div>\n",
       "<style scoped>\n",
       "    .dataframe tbody tr th:only-of-type {\n",
       "        vertical-align: middle;\n",
       "    }\n",
       "\n",
       "    .dataframe tbody tr th {\n",
       "        vertical-align: top;\n",
       "    }\n",
       "\n",
       "    .dataframe thead th {\n",
       "        text-align: right;\n",
       "    }\n",
       "</style>\n",
       "<table border=\"1\" class=\"dataframe\">\n",
       "  <thead>\n",
       "    <tr style=\"text-align: right;\">\n",
       "      <th></th>\n",
       "      <th>Entity</th>\n",
       "      <th>Code</th>\n",
       "      <th>Year</th>\n",
       "      <th>Prevalence of stunting, height for age (% of children under 5)</th>\n",
       "      <th>Prevalence of underweight, weight for age (% of children under 5)</th>\n",
       "      <th>Prevalence of wasting, weight for height (% of children under 5)</th>\n",
       "      <th>Continent</th>\n",
       "    </tr>\n",
       "  </thead>\n",
       "  <tbody>\n",
       "  </tbody>\n",
       "</table>\n",
       "</div>"
      ],
      "text/plain": [
       "Empty DataFrame\n",
       "Columns: [Entity, Code, Year, Prevalence of stunting, height for age (% of children under 5), Prevalence of underweight, weight for age (% of children under 5), Prevalence of wasting, weight for height (% of children under 5), Continent]\n",
       "Index: []"
      ]
     },
     "execution_count": 43,
     "metadata": {},
     "output_type": "execute_result"
    }
   ],
   "source": [
    "df[df['Continent'].isna()]"
   ]
  },
  {
   "cell_type": "code",
   "execution_count": 44,
   "metadata": {},
   "outputs": [
    {
     "data": {
      "text/html": [
       "<div>\n",
       "<style scoped>\n",
       "    .dataframe tbody tr th:only-of-type {\n",
       "        vertical-align: middle;\n",
       "    }\n",
       "\n",
       "    .dataframe tbody tr th {\n",
       "        vertical-align: top;\n",
       "    }\n",
       "\n",
       "    .dataframe thead th {\n",
       "        text-align: right;\n",
       "    }\n",
       "</style>\n",
       "<table border=\"1\" class=\"dataframe\">\n",
       "  <thead>\n",
       "    <tr style=\"text-align: right;\">\n",
       "      <th></th>\n",
       "      <th>Entity</th>\n",
       "      <th>Code</th>\n",
       "      <th>Year</th>\n",
       "      <th>Prevalence of stunting, height for age (% of children under 5)</th>\n",
       "      <th>Prevalence of underweight, weight for age (% of children under 5)</th>\n",
       "      <th>Prevalence of wasting, weight for height (% of children under 5)</th>\n",
       "      <th>Continent</th>\n",
       "    </tr>\n",
       "  </thead>\n",
       "  <tbody>\n",
       "    <tr>\n",
       "      <th>0</th>\n",
       "      <td>Afghanistan</td>\n",
       "      <td>AFG</td>\n",
       "      <td>1997</td>\n",
       "      <td>53.2</td>\n",
       "      <td>44.9</td>\n",
       "      <td>18.2</td>\n",
       "      <td>Asia</td>\n",
       "    </tr>\n",
       "    <tr>\n",
       "      <th>1</th>\n",
       "      <td>Afghanistan</td>\n",
       "      <td>AFG</td>\n",
       "      <td>2004</td>\n",
       "      <td>59.3</td>\n",
       "      <td>32.9</td>\n",
       "      <td>8.6</td>\n",
       "      <td>Asia</td>\n",
       "    </tr>\n",
       "    <tr>\n",
       "      <th>2</th>\n",
       "      <td>Afghanistan</td>\n",
       "      <td>AFG</td>\n",
       "      <td>2013</td>\n",
       "      <td>40.4</td>\n",
       "      <td>24.6</td>\n",
       "      <td>9.5</td>\n",
       "      <td>Asia</td>\n",
       "    </tr>\n",
       "    <tr>\n",
       "      <th>3</th>\n",
       "      <td>Afghanistan</td>\n",
       "      <td>AFG</td>\n",
       "      <td>2018</td>\n",
       "      <td>38.2</td>\n",
       "      <td>19.1</td>\n",
       "      <td>5.1</td>\n",
       "      <td>Asia</td>\n",
       "    </tr>\n",
       "    <tr>\n",
       "      <th>4</th>\n",
       "      <td>Albania</td>\n",
       "      <td>ALB</td>\n",
       "      <td>1997</td>\n",
       "      <td>20.4</td>\n",
       "      <td>7.1</td>\n",
       "      <td>8.1</td>\n",
       "      <td>Europe</td>\n",
       "    </tr>\n",
       "  </tbody>\n",
       "</table>\n",
       "</div>"
      ],
      "text/plain": [
       "        Entity Code  Year  \\\n",
       "0  Afghanistan  AFG  1997   \n",
       "1  Afghanistan  AFG  2004   \n",
       "2  Afghanistan  AFG  2013   \n",
       "3  Afghanistan  AFG  2018   \n",
       "4      Albania  ALB  1997   \n",
       "\n",
       "   Prevalence of stunting, height for age (% of children under 5)  \\\n",
       "0                                               53.2                \n",
       "1                                               59.3                \n",
       "2                                               40.4                \n",
       "3                                               38.2                \n",
       "4                                               20.4                \n",
       "\n",
       "   Prevalence of underweight, weight for age (% of children under 5)  \\\n",
       "0                                               44.9                   \n",
       "1                                               32.9                   \n",
       "2                                               24.6                   \n",
       "3                                               19.1                   \n",
       "4                                                7.1                   \n",
       "\n",
       "   Prevalence of wasting, weight for height (% of children under 5) Continent  \n",
       "0                                               18.2                     Asia  \n",
       "1                                                8.6                     Asia  \n",
       "2                                                9.5                     Asia  \n",
       "3                                                5.1                     Asia  \n",
       "4                                                8.1                   Europe  "
      ]
     },
     "execution_count": 44,
     "metadata": {},
     "output_type": "execute_result"
    }
   ],
   "source": [
    "df.head()"
   ]
  },
  {
   "cell_type": "code",
   "execution_count": 45,
   "metadata": {},
   "outputs": [],
   "source": [
    "df.rename(columns={\"Prevalence of stunting, height for age (% of children under 5)\": \"Stunting\",\"Prevalence of underweight, weight for age (% of children under 5)\" : \"Underweight\",\"Prevalence of wasting, weight for height (% of children under 5)\" : \"Wasting\"},inplace=True)\n"
   ]
  },
  {
   "cell_type": "code",
   "execution_count": 46,
   "metadata": {},
   "outputs": [
    {
     "data": {
      "text/html": [
       "<div>\n",
       "<style scoped>\n",
       "    .dataframe tbody tr th:only-of-type {\n",
       "        vertical-align: middle;\n",
       "    }\n",
       "\n",
       "    .dataframe tbody tr th {\n",
       "        vertical-align: top;\n",
       "    }\n",
       "\n",
       "    .dataframe thead th {\n",
       "        text-align: right;\n",
       "    }\n",
       "</style>\n",
       "<table border=\"1\" class=\"dataframe\">\n",
       "  <thead>\n",
       "    <tr style=\"text-align: right;\">\n",
       "      <th></th>\n",
       "      <th>Entity</th>\n",
       "      <th>Code</th>\n",
       "      <th>Year</th>\n",
       "      <th>Stunting</th>\n",
       "      <th>Underweight</th>\n",
       "      <th>Wasting</th>\n",
       "      <th>Continent</th>\n",
       "    </tr>\n",
       "  </thead>\n",
       "  <tbody>\n",
       "    <tr>\n",
       "      <th>0</th>\n",
       "      <td>Afghanistan</td>\n",
       "      <td>AFG</td>\n",
       "      <td>1997</td>\n",
       "      <td>53.2</td>\n",
       "      <td>44.9</td>\n",
       "      <td>18.2</td>\n",
       "      <td>Asia</td>\n",
       "    </tr>\n",
       "    <tr>\n",
       "      <th>1</th>\n",
       "      <td>Afghanistan</td>\n",
       "      <td>AFG</td>\n",
       "      <td>2004</td>\n",
       "      <td>59.3</td>\n",
       "      <td>32.9</td>\n",
       "      <td>8.6</td>\n",
       "      <td>Asia</td>\n",
       "    </tr>\n",
       "    <tr>\n",
       "      <th>2</th>\n",
       "      <td>Afghanistan</td>\n",
       "      <td>AFG</td>\n",
       "      <td>2013</td>\n",
       "      <td>40.4</td>\n",
       "      <td>24.6</td>\n",
       "      <td>9.5</td>\n",
       "      <td>Asia</td>\n",
       "    </tr>\n",
       "    <tr>\n",
       "      <th>3</th>\n",
       "      <td>Afghanistan</td>\n",
       "      <td>AFG</td>\n",
       "      <td>2018</td>\n",
       "      <td>38.2</td>\n",
       "      <td>19.1</td>\n",
       "      <td>5.1</td>\n",
       "      <td>Asia</td>\n",
       "    </tr>\n",
       "    <tr>\n",
       "      <th>4</th>\n",
       "      <td>Albania</td>\n",
       "      <td>ALB</td>\n",
       "      <td>1997</td>\n",
       "      <td>20.4</td>\n",
       "      <td>7.1</td>\n",
       "      <td>8.1</td>\n",
       "      <td>Europe</td>\n",
       "    </tr>\n",
       "  </tbody>\n",
       "</table>\n",
       "</div>"
      ],
      "text/plain": [
       "        Entity Code  Year  Stunting  Underweight  Wasting Continent\n",
       "0  Afghanistan  AFG  1997      53.2         44.9     18.2      Asia\n",
       "1  Afghanistan  AFG  2004      59.3         32.9      8.6      Asia\n",
       "2  Afghanistan  AFG  2013      40.4         24.6      9.5      Asia\n",
       "3  Afghanistan  AFG  2018      38.2         19.1      5.1      Asia\n",
       "4      Albania  ALB  1997      20.4          7.1      8.1    Europe"
      ]
     },
     "execution_count": 46,
     "metadata": {},
     "output_type": "execute_result"
    }
   ],
   "source": [
    "df.head()"
   ]
  },
  {
   "cell_type": "code",
   "execution_count": 52,
   "metadata": {
    "scrolled": true
   },
   "outputs": [
    {
     "data": {
      "image/png": "[encoded data removed]",
      "text/plain": [
       "<Figure size 1440x1080 with 3 Axes>"
      ]
     },
     "metadata": {
      "needs_background": "light"
     },
     "output_type": "display_data"
    }
   ],
   "source": [
    "from matplotlib import pyplot as plt\n",
    "\n",
    "\n",
    "fig, axs = plt.subplots(3, 1, figsize=(20, 15), sharex=True)\n",
    "\n",
    "\n",
    "axs[0].scatter(df['Year'], df['Stunting'])\n",
    "axs[0].set_title('Prevalence of Stunting over Time', fontsize=15)\n",
    "axs[0].set_xlabel(\"Year\", fontsize=20)\n",
    "axs[0].set_ylabel(\"% Children w/ Stunting\", fontsize=20)\n",
    "res = stats.linregress(df['Year'], df['Stunting']) \n",
    "axs[0].plot(df['Year'], res.intercept + res.slope*df['Year'], 'r')\n",
    "\n",
    "\n",
    "axs[1].scatter(df['Year'], df['Underweight'])\n",
    "axs[1].set_title('Prevalence of Underweight Children over Time', fontsize=15)\n",
    "axs[1].set_xlabel(\"Year\", fontsize=20)\n",
    "axs[1].set_ylabel(\"% Underweight Children\" , fontsize=20)\n",
    "res = stats.linregress(df['Year'], df['Underweight']) \n",
    "axs[1].plot(df['Year'], res.intercept + res.slope*df['Year'], 'r')\n",
    "\n",
    "axs[2].scatter(df['Year'], df['Wasting'])\n",
    "axs[2].set_title('Prevalence of Wasting over Time', fontsize=15)\n",
    "axs[2].set_xlabel(\"Year\", fontsize=20)\n",
    "axs[2].set_ylabel(\"% Children w/ Wasting\", fontsize=20)\n",
    "res = stats.linregress(df['Year'], df['Wasting']) \n",
    "axs[2].plot(df['Year'], res.intercept + res.slope*df['Year'], 'r')\n",
    "\n",
    "plt.show()"
   ]
  },
  {
   "cell_type": "markdown",
   "metadata": {},
   "source": [
    "General decrease in attributes that make up malnutrition (stunting, underweight, wasting) over time. However, slope not that steep, so we see that it is still a big problem in the world today. "
   ]
  },
  {
   "cell_type": "code",
   "execution_count": null,
   "metadata": {},
   "outputs": [],
   "source": []
  },
  {
   "cell_type": "code",
   "execution_count": null,
   "metadata": {},
   "outputs": [],
   "source": []
  }
 ],
 "metadata": {
  "kernelspec": {
   "display_name": "Python 3",
   "language": "python",
   "name": "python3"
  },
  "language_info": {
   "codemirror_mode": {
    "name": "ipython",
    "version": 3
   },
   "file_extension": ".py",
   "mimetype": "text/x-python",
   "name": "python",
   "nbconvert_exporter": "python",
   "pygments_lexer": "ipython3",
   "version": "3.8.8"
  }
 },
 "nbformat": 4,
 "nbformat_minor": 4
}
